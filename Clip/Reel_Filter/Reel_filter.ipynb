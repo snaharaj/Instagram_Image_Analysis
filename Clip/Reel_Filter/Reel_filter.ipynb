{
  "nbformat": 4,
  "nbformat_minor": 0,
  "metadata": {
    "colab": {
      "provenance": []
    },
    "kernelspec": {
      "name": "python3",
      "display_name": "Python 3"
    },
    "language_info": {
      "name": "python"
    }
  },
  "cells": [
    {
      "cell_type": "code",
      "execution_count": 1,
      "metadata": {
        "colab": {
          "base_uri": "https://localhost:8080/"
        },
        "id": "0ufIolFQXF9f",
        "outputId": "459294c4-eb76-4cce-b359-6bbf60493372"
      },
      "outputs": [
        {
          "output_type": "stream",
          "name": "stdout",
          "text": [
            "Mounted at /content/drive\n"
          ]
        }
      ],
      "source": [
        "from google.colab import drive\n",
        "drive.mount('/content/drive')"
      ]
    },
    {
      "cell_type": "code",
      "source": [
        "import os, json, shutil\n",
        "from pathlib import Path\n"
      ],
      "metadata": {
        "id": "GFTgiveTbnnG"
      },
      "execution_count": 2,
      "outputs": []
    },
    {
      "cell_type": "code",
      "source": [
        "IMG_DIR    = Path(\"/content/drive/MyDrive/Data_photos/photos\")        # folder with your images\n",
        "JSON_FILE  = Path(\"/content/drive/MyDrive/sampled_posts.json\") # your JSON metadata\n",
        "OUT_DIR    = Path(\"/content/drive/MyDrive/Data_photos/Images_reels\")  # where to save Reels images\n",
        "TARGET_CT  = \"Reel\""
      ],
      "metadata": {
        "id": "YhanJfxZbw-E"
      },
      "execution_count": 13,
      "outputs": []
    },
    {
      "cell_type": "code",
      "source": [
        "def get_post_id_from_filename(fname: str) -> str | None:\n",
        "    \"\"\"Extract <post_id> from a filename like '<post_id>__anything.ext'\"\"\"\n",
        "    base = os.path.basename(fname)\n",
        "    if \"__\" not in base:\n",
        "        return None\n",
        "    return base.split(\"__\", 1)[0]"
      ],
      "metadata": {
        "id": "YxYk-XAYcGZI"
      },
      "execution_count": 5,
      "outputs": []
    },
    {
      "cell_type": "code",
      "source": [
        "with open(JSON_FILE, \"r\") as f:\n",
        "    posts = json.load(f)\n",
        "\n",
        "allowed_ids = {\n",
        "    str(item.get(\"post_id\") or item.get(\"pk\") or \"\").strip()\n",
        "    for item in posts\n",
        "    if (item.get(\"content_type\") or \"\").strip().lower() == TARGET_CT.lower()\n",
        "}\n",
        "\n",
        "print(f\"Found {len(allowed_ids)} post_ids with content_type == '{TARGET_CT}'\")"
      ],
      "metadata": {
        "colab": {
          "base_uri": "https://localhost:8080/"
        },
        "id": "M1dC7EGncqqa",
        "outputId": "a762334f-906c-4cfb-839b-10cbc31b02a4"
      },
      "execution_count": 11,
      "outputs": [
        {
          "output_type": "stream",
          "name": "stdout",
          "text": [
            "Found 128 post_ids with content_type == 'Reel'\n"
          ]
        }
      ]
    },
    {
      "cell_type": "code",
      "source": [
        "\n",
        "OUT_DIR.mkdir(parents=True, exist_ok=True)\n",
        "\n",
        "kept = skipped = missing = 0\n",
        "\n",
        "for p in IMG_DIR.rglob(\"*\"):   # includes nested folders if any\n",
        "    if not p.is_file():\n",
        "        continue\n",
        "\n",
        "    pid = get_post_id_from_filename(p.name)\n",
        "    if not pid:\n",
        "        skipped += 1\n",
        "        continue\n",
        "\n",
        "    if pid in allowed_ids:\n",
        "        shutil.copy2(p, OUT_DIR / p.name)   # use shutil.move(...) to move instead of copy\n",
        "        kept += 1\n",
        "    else:\n",
        "        missing += 1\n",
        "\n",
        "print(\"\\n=== SUMMARY ===\")\n",
        "print(f\"Kept (Reels only): {kept}\")\n",
        "print(f\"Skipped (bad name / no '__'): {skipped}\")\n",
        "print(f\"Not Reels: {missing}\")\n",
        "print(f\"Output folder: {OUT_DIR}\")\n"
      ],
      "metadata": {
        "colab": {
          "base_uri": "https://localhost:8080/"
        },
        "id": "5iM9Nk1HetQD",
        "outputId": "ab26b84b-368e-4dbd-9e43-b5259eb6eb53"
      },
      "execution_count": 14,
      "outputs": [
        {
          "output_type": "stream",
          "name": "stdout",
          "text": [
            "\n",
            "=== SUMMARY ===\n",
            "Kept (Reels only): 124\n",
            "Skipped (bad name / no '__'): 0\n",
            "Not Reels: 6747\n",
            "Output folder: /content/drive/MyDrive/Data_photos/Images_reels\n"
          ]
        }
      ]
    },
    {
      "cell_type": "code",
      "source": [],
      "metadata": {
        "id": "I9uLakBbimBP"
      },
      "execution_count": null,
      "outputs": []
    }
  ]
}